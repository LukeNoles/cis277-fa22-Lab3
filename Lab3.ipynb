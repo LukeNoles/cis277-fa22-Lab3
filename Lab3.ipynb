{
  "cells": [
    {
      "cell_type": "markdown",
      "metadata": {},
      "source": [
        "# Lab 3 - Video Game Reviews"
      ]
    },
    {
      "cell_type": "code",
      "execution_count": 23,
      "metadata": {},
      "outputs": [],
      "source": [
        "from math import nan"
      ]
    },
    {
      "cell_type": "code",
      "execution_count": 24,
      "metadata": {
        "id": "gIWe8vk2fPX7"
      },
      "outputs": [],
      "source": [
        "import pandas as pd"
      ]
    },
    {
      "cell_type": "markdown",
      "metadata": {
        "id": "4N0ty0ecrWcn"
      },
      "source": [
        "## Import Data"
      ]
    },
    {
      "cell_type": "code",
      "execution_count": 25,
      "metadata": {
        "id": "qY7nb0rAgWrr"
      },
      "outputs": [],
      "source": [
        "df = pd.read_csv('imdb-videogames.csv')"
      ]
    },
    {
      "cell_type": "code",
      "execution_count": 26,
      "metadata": {
        "colab": {
          "base_uri": "https://localhost:8080/",
          "height": 359
        },
        "id": "eIkZ2SBehFrY",
        "outputId": "8952e428-b938-4933-b581-9be7ddf2cdea"
      },
      "outputs": [
        {
          "data": {
            "text/html": [
              "<div>\n",
              "<style scoped>\n",
              "    .dataframe tbody tr th:only-of-type {\n",
              "        vertical-align: middle;\n",
              "    }\n",
              "\n",
              "    .dataframe tbody tr th {\n",
              "        vertical-align: top;\n",
              "    }\n",
              "\n",
              "    .dataframe thead th {\n",
              "        text-align: right;\n",
              "    }\n",
              "</style>\n",
              "<table border=\"1\" class=\"dataframe\">\n",
              "  <thead>\n",
              "    <tr style=\"text-align: right;\">\n",
              "      <th></th>\n",
              "      <th>Unnamed: 0</th>\n",
              "      <th>name</th>\n",
              "      <th>url</th>\n",
              "      <th>year</th>\n",
              "      <th>certificate</th>\n",
              "      <th>rating</th>\n",
              "      <th>votes</th>\n",
              "      <th>plot summary</th>\n",
              "      <th>Action</th>\n",
              "      <th>Adventure</th>\n",
              "      <th>Comedy</th>\n",
              "      <th>Crime</th>\n",
              "      <th>Family</th>\n",
              "      <th>Fantasy</th>\n",
              "      <th>Mystery</th>\n",
              "      <th>Sci-Fi</th>\n",
              "      <th>Thriller</th>\n",
              "    </tr>\n",
              "  </thead>\n",
              "  <tbody>\n",
              "    <tr>\n",
              "      <th>0</th>\n",
              "      <td>0</td>\n",
              "      <td>Spider-Man</td>\n",
              "      <td>https://www.imdb.com/title/tt5807780/?ref_=adv...</td>\n",
              "      <td>2018.0</td>\n",
              "      <td>T</td>\n",
              "      <td>9.2</td>\n",
              "      <td>20,759</td>\n",
              "      <td>When a new villain threatens New York City, Pe...</td>\n",
              "      <td>True</td>\n",
              "      <td>True</td>\n",
              "      <td>False</td>\n",
              "      <td>False</td>\n",
              "      <td>False</td>\n",
              "      <td>True</td>\n",
              "      <td>False</td>\n",
              "      <td>False</td>\n",
              "      <td>False</td>\n",
              "    </tr>\n",
              "    <tr>\n",
              "      <th>1</th>\n",
              "      <td>1</td>\n",
              "      <td>Red Dead Redemption II</td>\n",
              "      <td>https://www.imdb.com/title/tt6161168/?ref_=adv...</td>\n",
              "      <td>2018.0</td>\n",
              "      <td>M</td>\n",
              "      <td>9.7</td>\n",
              "      <td>35,703</td>\n",
              "      <td>Amidst the decline of the Wild West at the tur...</td>\n",
              "      <td>True</td>\n",
              "      <td>True</td>\n",
              "      <td>False</td>\n",
              "      <td>True</td>\n",
              "      <td>False</td>\n",
              "      <td>False</td>\n",
              "      <td>False</td>\n",
              "      <td>False</td>\n",
              "      <td>False</td>\n",
              "    </tr>\n",
              "    <tr>\n",
              "      <th>2</th>\n",
              "      <td>2</td>\n",
              "      <td>Grand Theft Auto V</td>\n",
              "      <td>https://www.imdb.com/title/tt2103188/?ref_=adv...</td>\n",
              "      <td>2013.0</td>\n",
              "      <td>M</td>\n",
              "      <td>9.5</td>\n",
              "      <td>59,986</td>\n",
              "      <td>Three very different criminals team up for a s...</td>\n",
              "      <td>True</td>\n",
              "      <td>False</td>\n",
              "      <td>False</td>\n",
              "      <td>True</td>\n",
              "      <td>False</td>\n",
              "      <td>False</td>\n",
              "      <td>False</td>\n",
              "      <td>False</td>\n",
              "      <td>False</td>\n",
              "    </tr>\n",
              "    <tr>\n",
              "      <th>3</th>\n",
              "      <td>3</td>\n",
              "      <td>God of War</td>\n",
              "      <td>https://www.imdb.com/title/tt5838588/?ref_=adv...</td>\n",
              "      <td>2018.0</td>\n",
              "      <td>M</td>\n",
              "      <td>9.6</td>\n",
              "      <td>26,118</td>\n",
              "      <td>After wiping out the gods of Mount Olympus, Kr...</td>\n",
              "      <td>True</td>\n",
              "      <td>True</td>\n",
              "      <td>False</td>\n",
              "      <td>False</td>\n",
              "      <td>False</td>\n",
              "      <td>False</td>\n",
              "      <td>False</td>\n",
              "      <td>False</td>\n",
              "      <td>False</td>\n",
              "    </tr>\n",
              "    <tr>\n",
              "      <th>4</th>\n",
              "      <td>4</td>\n",
              "      <td>Uncharted 4: A Thief's End</td>\n",
              "      <td>https://www.imdb.com/title/tt3334704/?ref_=adv...</td>\n",
              "      <td>2016.0</td>\n",
              "      <td>T</td>\n",
              "      <td>9.5</td>\n",
              "      <td>28,722</td>\n",
              "      <td>Thrown back into the dangerous underworld he'd...</td>\n",
              "      <td>True</td>\n",
              "      <td>True</td>\n",
              "      <td>False</td>\n",
              "      <td>False</td>\n",
              "      <td>False</td>\n",
              "      <td>False</td>\n",
              "      <td>False</td>\n",
              "      <td>False</td>\n",
              "      <td>False</td>\n",
              "    </tr>\n",
              "  </tbody>\n",
              "</table>\n",
              "</div>"
            ],
            "text/plain": [
              "   Unnamed: 0                        name  \\\n",
              "0           0                  Spider-Man   \n",
              "1           1      Red Dead Redemption II   \n",
              "2           2          Grand Theft Auto V   \n",
              "3           3                  God of War   \n",
              "4           4  Uncharted 4: A Thief's End   \n",
              "\n",
              "                                                 url    year certificate  \\\n",
              "0  https://www.imdb.com/title/tt5807780/?ref_=adv...  2018.0           T   \n",
              "1  https://www.imdb.com/title/tt6161168/?ref_=adv...  2018.0           M   \n",
              "2  https://www.imdb.com/title/tt2103188/?ref_=adv...  2013.0           M   \n",
              "3  https://www.imdb.com/title/tt5838588/?ref_=adv...  2018.0           M   \n",
              "4  https://www.imdb.com/title/tt3334704/?ref_=adv...  2016.0           T   \n",
              "\n",
              "  rating   votes                                       plot summary  Action  \\\n",
              "0    9.2  20,759  When a new villain threatens New York City, Pe...    True   \n",
              "1    9.7  35,703  Amidst the decline of the Wild West at the tur...    True   \n",
              "2    9.5  59,986  Three very different criminals team up for a s...    True   \n",
              "3    9.6  26,118  After wiping out the gods of Mount Olympus, Kr...    True   \n",
              "4    9.5  28,722  Thrown back into the dangerous underworld he'd...    True   \n",
              "\n",
              "   Adventure  Comedy  Crime  Family  Fantasy  Mystery  Sci-Fi  Thriller  \n",
              "0       True   False  False   False     True    False   False     False  \n",
              "1       True   False   True   False    False    False   False     False  \n",
              "2      False   False   True   False    False    False   False     False  \n",
              "3       True   False  False   False    False    False   False     False  \n",
              "4       True   False  False   False    False    False   False     False  "
            ]
          },
          "execution_count": 26,
          "metadata": {},
          "output_type": "execute_result"
        }
      ],
      "source": [
        "df.head()"
      ]
    },
    {
      "cell_type": "code",
      "execution_count": 27,
      "metadata": {
        "colab": {
          "base_uri": "https://localhost:8080/"
        },
        "id": "eR6x6BUwhptZ",
        "outputId": "e2b94951-3d5d-47bf-e3e4-c5c571d2d879"
      },
      "outputs": [
        {
          "data": {
            "text/plain": [
              "(20805, 17)"
            ]
          },
          "execution_count": 27,
          "metadata": {},
          "output_type": "execute_result"
        }
      ],
      "source": [
        "df.shape"
      ]
    },
    {
      "cell_type": "code",
      "execution_count": 28,
      "metadata": {
        "colab": {
          "base_uri": "https://localhost:8080/"
        },
        "id": "kx4xO7-biEGK",
        "outputId": "a5d0a366-f1eb-46e6-a56b-59699a4d9fad"
      },
      "outputs": [
        {
          "name": "stdout",
          "output_type": "stream",
          "text": [
            "<class 'pandas.core.frame.DataFrame'>\n",
            "RangeIndex: 20805 entries, 0 to 20804\n",
            "Data columns (total 17 columns):\n",
            " #   Column        Non-Null Count  Dtype  \n",
            "---  ------        --------------  -----  \n",
            " 0   Unnamed: 0    20805 non-null  int64  \n",
            " 1   name          20805 non-null  object \n",
            " 2   url           20805 non-null  object \n",
            " 3   year          20538 non-null  float64\n",
            " 4   certificate   7905 non-null   object \n",
            " 5   rating        11602 non-null  object \n",
            " 6   votes         11602 non-null  object \n",
            " 7   plot summary  20805 non-null  object \n",
            " 8   Action        20805 non-null  bool   \n",
            " 9   Adventure     20805 non-null  bool   \n",
            " 10  Comedy        20805 non-null  bool   \n",
            " 11  Crime         20805 non-null  bool   \n",
            " 12  Family        20805 non-null  bool   \n",
            " 13  Fantasy       20805 non-null  bool   \n",
            " 14  Mystery       20805 non-null  bool   \n",
            " 15  Sci-Fi        20805 non-null  bool   \n",
            " 16  Thriller      20805 non-null  bool   \n",
            "dtypes: bool(9), float64(1), int64(1), object(6)\n",
            "memory usage: 1.4+ MB\n"
          ]
        }
      ],
      "source": [
        "df.info()"
      ]
    },
    {
      "cell_type": "code",
      "execution_count": 29,
      "metadata": {},
      "outputs": [
        {
          "data": {
            "text/plain": [
              "T            2474\n",
              "E            2006\n",
              "M            1820\n",
              "E10+          814\n",
              "Unrated       241\n",
              "K-A           229\n",
              "Not Rated     184\n",
              "AO             32\n",
              "GA             26\n",
              "EC             25\n",
              "CE             13\n",
              "12              9\n",
              "PG-13           7\n",
              "MA-13           7\n",
              "Approved        4\n",
              "G               4\n",
              "MA-17           3\n",
              "PG              3\n",
              "TV-MA           2\n",
              "Passed          1\n",
              "TV-14           1\n",
              "Name: certificate, dtype: int64"
            ]
          },
          "execution_count": 29,
          "metadata": {},
          "output_type": "execute_result"
        }
      ],
      "source": [
        "df.certificate.value_counts()"
      ]
    },
    {
      "cell_type": "markdown",
      "metadata": {},
      "source": [
        "## Clean Data"
      ]
    },
    {
      "cell_type": "markdown",
      "metadata": {},
      "source": [
        "Clean and Fix Rating"
      ]
    },
    {
      "cell_type": "code",
      "execution_count": 30,
      "metadata": {},
      "outputs": [],
      "source": [
        "df[ df.rating==\"*9.0\"]\n",
        "df.rating.replace(\"*9.0\", 9.0, inplace=True)\n",
        "df.rating = pd.to_numeric(df.rating)\n",
        "df.rating.astype(float)\n",
        "df.rating.fillna(0, inplace=True)"
      ]
    },
    {
      "cell_type": "markdown",
      "metadata": {},
      "source": [
        "Clean and Fix Votes"
      ]
    },
    {
      "cell_type": "code",
      "execution_count": 31,
      "metadata": {},
      "outputs": [
        {
          "data": {
            "text/plain": [
              "630.9875883468368"
            ]
          },
          "execution_count": 31,
          "metadata": {},
          "output_type": "execute_result"
        }
      ],
      "source": [
        "df.votes = df.votes.str.replace(',', '')\n",
        "df.votes = pd.to_numeric(df.votes)\n",
        "df.votes.mean()"
      ]
    },
    {
      "cell_type": "markdown",
      "metadata": {},
      "source": [
        "Fix Columns"
      ]
    },
    {
      "cell_type": "code",
      "execution_count": 32,
      "metadata": {},
      "outputs": [],
      "source": [
        "df = df.drop(\"Unnamed: 0\", axis=1)\n",
        "df.columns = ['name', 'url', 'year', 'certificate', 'rating', 'votes',\n",
        "       'plotSummary', 'Action', 'Adventure', 'Comedy', 'Crime', 'Family',\n",
        "       'Fantasy', 'Mystery', 'SciFi', 'Thriller']"
      ]
    },
    {
      "cell_type": "markdown",
      "metadata": {},
      "source": [
        "## Questions"
      ]
    },
    {
      "cell_type": "markdown",
      "metadata": {},
      "source": [
        "### 1. What is the average rating for Action games?"
      ]
    },
    {
      "cell_type": "code",
      "execution_count": 33,
      "metadata": {},
      "outputs": [
        {
          "data": {
            "text/plain": [
              "4.779391552128709"
            ]
          },
          "execution_count": 33,
          "metadata": {},
          "output_type": "execute_result"
        }
      ],
      "source": [
        "action_games = df[df.Action == True]\n",
        "\n",
        "action_games.rating.mean()\n"
      ]
    },
    {
      "cell_type": "markdown",
      "metadata": {},
      "source": [
        "### 2. What is the average rating of games after 2010? What is the average rating of games before (and including) 2010?"
      ]
    },
    {
      "cell_type": "code",
      "execution_count": 34,
      "metadata": {},
      "outputs": [
        {
          "name": "stdout",
          "output_type": "stream",
          "text": [
            "The avergae rating of old games is 4.4005175632106\n",
            "The avergae rating of new games is 3.4159277879341783\n"
          ]
        }
      ],
      "source": [
        "old_games = df[df.year < 2011]\n",
        "old_rating = old_games.rating.mean()\n",
        "new_games = df[df.year > 2010]\n",
        "new_rating = new_games.rating.mean()\n",
        "\n",
        "print(\"The avergae rating of old games is\", old_rating)\n",
        "print(\"The avergae rating of new games is\", new_rating)"
      ]
    },
    {
      "cell_type": "markdown",
      "metadata": {},
      "source": [
        "### 3. What games include \"Fallout\" in their title?"
      ]
    },
    {
      "cell_type": "code",
      "execution_count": 35,
      "metadata": {},
      "outputs": [
        {
          "data": {
            "text/plain": [
              "29                                Fallout: New Vegas\n",
              "37                                         Fallout 4\n",
              "115                                        Fallout 3\n",
              "207                                       Fallout 76\n",
              "340        Fallout: A Post-Nuclear Role-Playing Game\n",
              "437      Fallout 2: A Post-Nuclear Role-Playing Game\n",
              "1062                           Fallout: The Frontier\n",
              "1233           Fallout Tactics: Brotherhood of Steel\n",
              "1872              Fallout: New Vegas - Honest Hearts\n",
              "1964                            Fallout 4: New Vegas\n",
              "2003                   Fallout: Brotherhood of Steel\n",
              "2117            Fallout: New Vegas - Old World Blues\n",
              "2170                       Fallout Legacy Collection\n",
              "2362               Fallout: New Vegas - Simply Uncut\n",
              "2472                           Fallout 4: Far Harbor\n",
              "2549                 Fallout: New Vegas - Dead Money\n",
              "2681                                  Fallout: Miami\n",
              "2718                   Fallout 4: Fusion City Rising\n",
              "2861                         Fallout: New California\n",
              "3047              Fallout: New Vegas - Lonesome Road\n",
              "3086                       Fallout 4: Heather Casdin\n",
              "3127                        Fallout 3: Point Lookout\n",
              "3141                 Fallout 3: Operation: Anchorage\n",
              "3165                           Fallout 4: Nuka-World\n",
              "3206                         Fallout 3: Broken Steel\n",
              "3440                         Fallout 76: Steel Reign\n",
              "3554                             Fallout 3: The Pitt\n",
              "3615                      Fallout 3: Mothership Zeta\n",
              "3719                          Fallout 76: Steel Dawn\n",
              "3731              Fallout 76: Expeditions - The Pitt\n",
              "4012                    Fallout 4: Capital Wasteland\n",
              "4190                        Fallout 76: Wastelanders\n",
              "5306                           Fallout 4: Automatron\n",
              "8315                       Fallout 4 - Point Lookout\n",
              "9821                               Fallout: Cascadia\n",
              "10013                                      Fallout 4\n",
              "10027                                      Fallout 3\n",
              "10716                              Fallout 4: London\n",
              "12535                  Fallout 4: Wasteland Workshop\n",
              "13598                  Fallout 4: Vault-Tec Workshop\n",
              "14919               Fallout 4: Contraptions Workshop\n",
              "19373      Fallout: A Post-Nuclear Role-Playing Game\n",
              "19425             Fallout New Vegas: Brave New World\n",
              "19513                                Fallout Shelter\n",
              "Name: name, dtype: object"
            ]
          },
          "execution_count": 35,
          "metadata": {},
          "output_type": "execute_result"
        }
      ],
      "source": [
        "fallout_games = df.name[df.name.str.contains(pat = \"Fallout\")]\n",
        "fallout_games"
      ]
    },
    {
      "cell_type": "markdown",
      "metadata": {},
      "source": [
        "### 4. What is the most common certificate for Sci-Fi games? "
      ]
    },
    {
      "cell_type": "code",
      "execution_count": 36,
      "metadata": {},
      "outputs": [
        {
          "data": {
            "text/plain": [
              "T    424\n",
              "Name: certificate, dtype: int64"
            ]
          },
          "execution_count": 36,
          "metadata": {},
          "output_type": "execute_result"
        }
      ],
      "source": [
        "scifi_games = df[df.SciFi == True]\n",
        "\n",
        "duplicate_scifi_certificates = scifi_games.certificate.value_counts()\n",
        "most_common_scifi_certificate = duplicate_scifi_certificates[duplicate_scifi_certificates == duplicate_scifi_certificates.max()]\n",
        "most_common_scifi_certificate\n"
      ]
    },
    {
      "cell_type": "markdown",
      "metadata": {},
      "source": [
        "### 5. What percent of Thiller games have M or AO certificate?"
      ]
    },
    {
      "cell_type": "code",
      "execution_count": 37,
      "metadata": {},
      "outputs": [
        {
          "name": "stdout",
          "output_type": "stream",
          "text": [
            "38.24091778202677 percent\n"
          ]
        }
      ],
      "source": [
        "thriller_m_ao = df[ (df.Thriller==True) & (df.certificate=='M') | (df.certificate=='AO') ]\n",
        "thriller = df[ (df.Thriller==True)]\n",
        "\n",
        "\n",
        "percent = ((len(thriller_m_ao)*100) / len(thriller))\n",
        "print(percent, \"percent\")"
      ]
    },
    {
      "cell_type": "markdown",
      "metadata": {},
      "source": [
        "### 6. What is the mean and median rating for Family games? for Action games?"
      ]
    },
    {
      "cell_type": "code",
      "execution_count": 38,
      "metadata": {},
      "outputs": [
        {
          "name": "stdout",
          "output_type": "stream",
          "text": [
            "3.6560347826086903 is the mean for family games.\n",
            "4.7 is the median for family games.\n",
            "4.779391552128709 is the mean for action games.\n",
            "6.5 is the median for action games.\n"
          ]
        }
      ],
      "source": [
        "family_games = df[df.Family == True]\n",
        "\n",
        "print(family_games.rating.mean(), \"is the mean for family games.\")\n",
        "print(family_games.rating.median(), \"is the median for family games.\")\n",
        "print(action_games.rating.mean(), \"is the mean for action games.\")\n",
        "print(action_games.rating.median(), \"is the median for action games.\")"
      ]
    },
    {
      "cell_type": "markdown",
      "metadata": {},
      "source": [
        "### 7. Which game from 2018 got the most votes? "
      ]
    },
    {
      "cell_type": "code",
      "execution_count": 39,
      "metadata": {},
      "outputs": [
        {
          "data": {
            "text/html": [
              "<div>\n",
              "<style scoped>\n",
              "    .dataframe tbody tr th:only-of-type {\n",
              "        vertical-align: middle;\n",
              "    }\n",
              "\n",
              "    .dataframe tbody tr th {\n",
              "        vertical-align: top;\n",
              "    }\n",
              "\n",
              "    .dataframe thead th {\n",
              "        text-align: right;\n",
              "    }\n",
              "</style>\n",
              "<table border=\"1\" class=\"dataframe\">\n",
              "  <thead>\n",
              "    <tr style=\"text-align: right;\">\n",
              "      <th></th>\n",
              "      <th>name</th>\n",
              "      <th>url</th>\n",
              "      <th>year</th>\n",
              "      <th>certificate</th>\n",
              "      <th>rating</th>\n",
              "      <th>votes</th>\n",
              "      <th>plotSummary</th>\n",
              "      <th>Action</th>\n",
              "      <th>Adventure</th>\n",
              "      <th>Comedy</th>\n",
              "      <th>Crime</th>\n",
              "      <th>Family</th>\n",
              "      <th>Fantasy</th>\n",
              "      <th>Mystery</th>\n",
              "      <th>SciFi</th>\n",
              "      <th>Thriller</th>\n",
              "    </tr>\n",
              "  </thead>\n",
              "  <tbody>\n",
              "    <tr>\n",
              "      <th>15915</th>\n",
              "      <td>Red Dead Redemption II</td>\n",
              "      <td>https://www.imdb.com/title/tt6161168/?ref_=adv...</td>\n",
              "      <td>2018.0</td>\n",
              "      <td>M</td>\n",
              "      <td>9.7</td>\n",
              "      <td>35709.0</td>\n",
              "      <td>Amidst the decline of the Wild West at the tur...</td>\n",
              "      <td>True</td>\n",
              "      <td>True</td>\n",
              "      <td>False</td>\n",
              "      <td>True</td>\n",
              "      <td>False</td>\n",
              "      <td>False</td>\n",
              "      <td>False</td>\n",
              "      <td>False</td>\n",
              "      <td>False</td>\n",
              "    </tr>\n",
              "  </tbody>\n",
              "</table>\n",
              "</div>"
            ],
            "text/plain": [
              "                         name  \\\n",
              "15915  Red Dead Redemption II   \n",
              "\n",
              "                                                     url    year certificate  \\\n",
              "15915  https://www.imdb.com/title/tt6161168/?ref_=adv...  2018.0           M   \n",
              "\n",
              "       rating    votes                                        plotSummary  \\\n",
              "15915     9.7  35709.0  Amidst the decline of the Wild West at the tur...   \n",
              "\n",
              "       Action  Adventure  Comedy  Crime  Family  Fantasy  Mystery  SciFi  \\\n",
              "15915    True       True   False   True   False    False    False  False   \n",
              "\n",
              "       Thriller  \n",
              "15915     False  "
            ]
          },
          "execution_count": 39,
          "metadata": {},
          "output_type": "execute_result"
        }
      ],
      "source": [
        "twenty_eighteen_games = df[df.year == 2018]\n",
        "twenty_eighteen_games = twenty_eighteen_games[twenty_eighteen_games.votes == twenty_eighteen_games.votes.max()]\n",
        "twenty_eighteen_games"
      ]
    },
    {
      "cell_type": "markdown",
      "metadata": {},
      "source": [
        "### 8. What is the average rating for each genre (Action, Adventure, Comedy, Crime, Family, Fantasy, Mystery, Sci-Fi, and Thriller)?"
      ]
    },
    {
      "cell_type": "code",
      "execution_count": 40,
      "metadata": {},
      "outputs": [
        {
          "name": "stdout",
          "output_type": "stream",
          "text": [
            "the average rating of action games is 4.779391552128709\n",
            "the average rating of adventure games is 4.57860874613003\n",
            "the average rating of comedy games is 4.659887955182077\n",
            "the average rating of crime games is 5.51698324022346\n",
            "the average rating of family games is 3.6560347826086903\n",
            "the average rating of fantasy games is 4.837816091954038\n",
            "the average rating of mystery games is 4.495949367088605\n",
            "the average rating of sci-fi games is 4.024373259052929\n",
            "the average rating of thriller games is 4.946462715105163\n"
          ]
        }
      ],
      "source": [
        "action_games = df[df.Action == True]\n",
        "adventure_games = df[df.Adventure == True]\n",
        "comedy_games = df[df.Comedy == True]\n",
        "crime_games = df[df.Crime == True]\n",
        "family_games = df[df.Family == True]\n",
        "fantasy_games = df[df.Fantasy == True]\n",
        "mystery_games = df[df.Mystery == True]\n",
        "thriller_games = df[df.Thriller == True]\n",
        "\n",
        "print(\"the average rating of action games is\", action_games.rating.mean())\n",
        "print(\"the average rating of adventure games is\", adventure_games.rating.mean())\n",
        "print(\"the average rating of comedy games is\", comedy_games.rating.mean())\n",
        "print(\"the average rating of crime games is\", crime_games.rating.mean())\n",
        "print(\"the average rating of family games is\", family_games.rating.mean())\n",
        "print(\"the average rating of fantasy games is\", fantasy_games.rating.mean())\n",
        "print(\"the average rating of mystery games is\", mystery_games.rating.mean())\n",
        "print(\"the average rating of sci-fi games is\", scifi_games.rating.mean())\n",
        "print(\"the average rating of thriller games is\", thriller_games.rating.mean())"
      ]
    },
    {
      "cell_type": "markdown",
      "metadata": {},
      "source": [
        "### 9. Which year's games received the most votes?"
      ]
    },
    {
      "cell_type": "code",
      "execution_count": 41,
      "metadata": {},
      "outputs": [
        {
          "data": {
            "text/html": [
              "<div>\n",
              "<style scoped>\n",
              "    .dataframe tbody tr th:only-of-type {\n",
              "        vertical-align: middle;\n",
              "    }\n",
              "\n",
              "    .dataframe tbody tr th {\n",
              "        vertical-align: top;\n",
              "    }\n",
              "\n",
              "    .dataframe thead th {\n",
              "        text-align: right;\n",
              "    }\n",
              "</style>\n",
              "<table border=\"1\" class=\"dataframe\">\n",
              "  <thead>\n",
              "    <tr style=\"text-align: right;\">\n",
              "      <th></th>\n",
              "      <th>votes</th>\n",
              "    </tr>\n",
              "    <tr>\n",
              "      <th>year</th>\n",
              "      <th></th>\n",
              "    </tr>\n",
              "  </thead>\n",
              "  <tbody>\n",
              "    <tr>\n",
              "      <th>2013.0</th>\n",
              "      <td>675033.0</td>\n",
              "    </tr>\n",
              "  </tbody>\n",
              "</table>\n",
              "</div>"
            ],
            "text/plain": [
              "           votes\n",
              "year            \n",
              "2013.0  675033.0"
            ]
          },
          "execution_count": 41,
          "metadata": {},
          "output_type": "execute_result"
        }
      ],
      "source": [
        "year_votes = df.groupby(\"year\").votes.sum()\n",
        "year_vote_df = pd.DataFrame(year_votes)\n",
        "\n",
        "\n",
        "most_votes = year_vote_df[year_vote_df == year_vote_df.max()]\n",
        "most_votes.dropna()\n"
      ]
    },
    {
      "cell_type": "markdown",
      "metadata": {},
      "source": [
        "### 10. What's the average number of votes for games that are not Action games?"
      ]
    },
    {
      "cell_type": "code",
      "execution_count": 42,
      "metadata": {},
      "outputs": [
        {
          "data": {
            "text/plain": [
              "188.42715700141443"
            ]
          },
          "execution_count": 42,
          "metadata": {},
          "output_type": "execute_result"
        }
      ],
      "source": [
        "not_action_games = df[df.Action != True]\n",
        "not_action_games.votes.mean()"
      ]
    },
    {
      "cell_type": "markdown",
      "metadata": {},
      "source": [
        "### 11. What games are platformers?"
      ]
    },
    {
      "cell_type": "code",
      "execution_count": 43,
      "metadata": {},
      "outputs": [
        {
          "data": {
            "text/html": [
              "<div>\n",
              "<style scoped>\n",
              "    .dataframe tbody tr th:only-of-type {\n",
              "        vertical-align: middle;\n",
              "    }\n",
              "\n",
              "    .dataframe tbody tr th {\n",
              "        vertical-align: top;\n",
              "    }\n",
              "\n",
              "    .dataframe thead th {\n",
              "        text-align: right;\n",
              "    }\n",
              "</style>\n",
              "<table border=\"1\" class=\"dataframe\">\n",
              "  <thead>\n",
              "    <tr style=\"text-align: right;\">\n",
              "      <th></th>\n",
              "      <th>name</th>\n",
              "      <th>url</th>\n",
              "      <th>year</th>\n",
              "      <th>certificate</th>\n",
              "      <th>rating</th>\n",
              "      <th>votes</th>\n",
              "      <th>plotSummary</th>\n",
              "      <th>Action</th>\n",
              "      <th>Adventure</th>\n",
              "      <th>Comedy</th>\n",
              "      <th>Crime</th>\n",
              "      <th>Family</th>\n",
              "      <th>Fantasy</th>\n",
              "      <th>Mystery</th>\n",
              "      <th>SciFi</th>\n",
              "      <th>Thriller</th>\n",
              "    </tr>\n",
              "  </thead>\n",
              "  <tbody>\n",
              "    <tr>\n",
              "      <th>434</th>\n",
              "      <td>Sonic and the Fallen Star</td>\n",
              "      <td>https://www.imdb.com/title/tt15964560/?ref_=ad...</td>\n",
              "      <td>2021.0</td>\n",
              "      <td>E</td>\n",
              "      <td>8.3</td>\n",
              "      <td>11.0</td>\n",
              "      <td>Sonic and The Fallen Star is a 2D speed-based ...</td>\n",
              "      <td>True</td>\n",
              "      <td>True</td>\n",
              "      <td>False</td>\n",
              "      <td>False</td>\n",
              "      <td>True</td>\n",
              "      <td>False</td>\n",
              "      <td>False</td>\n",
              "      <td>False</td>\n",
              "      <td>False</td>\n",
              "    </tr>\n",
              "    <tr>\n",
              "      <th>838</th>\n",
              "      <td>A Hat in Time</td>\n",
              "      <td>https://www.imdb.com/title/tt3642956/?ref_=adv...</td>\n",
              "      <td>2017.0</td>\n",
              "      <td>E10+</td>\n",
              "      <td>8.1</td>\n",
              "      <td>324.0</td>\n",
              "      <td>A Hat in Time is a cute-as-heck 3D platformer ...</td>\n",
              "      <td>True</td>\n",
              "      <td>True</td>\n",
              "      <td>False</td>\n",
              "      <td>False</td>\n",
              "      <td>True</td>\n",
              "      <td>False</td>\n",
              "      <td>False</td>\n",
              "      <td>False</td>\n",
              "      <td>False</td>\n",
              "    </tr>\n",
              "    <tr>\n",
              "      <th>904</th>\n",
              "      <td>The Last Airbender</td>\n",
              "      <td>https://www.imdb.com/title/tt1666339/?ref_=adv...</td>\n",
              "      <td>2010.0</td>\n",
              "      <td>NaN</td>\n",
              "      <td>4.5</td>\n",
              "      <td>285.0</td>\n",
              "      <td>Action adventure platformer based on the movie...</td>\n",
              "      <td>True</td>\n",
              "      <td>True</td>\n",
              "      <td>False</td>\n",
              "      <td>False</td>\n",
              "      <td>False</td>\n",
              "      <td>True</td>\n",
              "      <td>False</td>\n",
              "      <td>False</td>\n",
              "      <td>False</td>\n",
              "    </tr>\n",
              "    <tr>\n",
              "      <th>1085</th>\n",
              "      <td>Treasure Planet</td>\n",
              "      <td>https://www.imdb.com/title/tt1602487/?ref_=adv...</td>\n",
              "      <td>2002.0</td>\n",
              "      <td>E</td>\n",
              "      <td>7.2</td>\n",
              "      <td>168.0</td>\n",
              "      <td>Action-adventure 3-D platformer racing game fo...</td>\n",
              "      <td>True</td>\n",
              "      <td>True</td>\n",
              "      <td>False</td>\n",
              "      <td>False</td>\n",
              "      <td>True</td>\n",
              "      <td>False</td>\n",
              "      <td>False</td>\n",
              "      <td>False</td>\n",
              "      <td>False</td>\n",
              "    </tr>\n",
              "    <tr>\n",
              "      <th>1813</th>\n",
              "      <td>Predator</td>\n",
              "      <td>https://www.imdb.com/title/tt0311669/?ref_=adv...</td>\n",
              "      <td>1989.0</td>\n",
              "      <td>Unrated</td>\n",
              "      <td>5.7</td>\n",
              "      <td>85.0</td>\n",
              "      <td>Action-platformer based on the movie of the sa...</td>\n",
              "      <td>True</td>\n",
              "      <td>True</td>\n",
              "      <td>False</td>\n",
              "      <td>False</td>\n",
              "      <td>False</td>\n",
              "      <td>False</td>\n",
              "      <td>False</td>\n",
              "      <td>True</td>\n",
              "      <td>False</td>\n",
              "    </tr>\n",
              "    <tr>\n",
              "      <th>...</th>\n",
              "      <td>...</td>\n",
              "      <td>...</td>\n",
              "      <td>...</td>\n",
              "      <td>...</td>\n",
              "      <td>...</td>\n",
              "      <td>...</td>\n",
              "      <td>...</td>\n",
              "      <td>...</td>\n",
              "      <td>...</td>\n",
              "      <td>...</td>\n",
              "      <td>...</td>\n",
              "      <td>...</td>\n",
              "      <td>...</td>\n",
              "      <td>...</td>\n",
              "      <td>...</td>\n",
              "      <td>...</td>\n",
              "    </tr>\n",
              "    <tr>\n",
              "      <th>18761</th>\n",
              "      <td>PPL: The Animated Adventures</td>\n",
              "      <td>https://www.imdb.com/title/tt15203432/?ref_=ad...</td>\n",
              "      <td>2021.0</td>\n",
              "      <td>NaN</td>\n",
              "      <td>0.0</td>\n",
              "      <td>NaN</td>\n",
              "      <td>A challenging 2D platformer with hard boss fig...</td>\n",
              "      <td>True</td>\n",
              "      <td>False</td>\n",
              "      <td>False</td>\n",
              "      <td>False</td>\n",
              "      <td>False</td>\n",
              "      <td>True</td>\n",
              "      <td>False</td>\n",
              "      <td>False</td>\n",
              "      <td>False</td>\n",
              "    </tr>\n",
              "    <tr>\n",
              "      <th>19472</th>\n",
              "      <td>Demolition Man</td>\n",
              "      <td>https://www.imdb.com/title/tt6748986/?ref_=adv...</td>\n",
              "      <td>1995.0</td>\n",
              "      <td>NaN</td>\n",
              "      <td>7.5</td>\n",
              "      <td>16.0</td>\n",
              "      <td>Acclaim's 16-bit video game for the SNES, Gene...</td>\n",
              "      <td>False</td>\n",
              "      <td>False</td>\n",
              "      <td>False</td>\n",
              "      <td>False</td>\n",
              "      <td>False</td>\n",
              "      <td>False</td>\n",
              "      <td>False</td>\n",
              "      <td>True</td>\n",
              "      <td>False</td>\n",
              "    </tr>\n",
              "    <tr>\n",
              "      <th>19474</th>\n",
              "      <td>Astro Bot: Rescue Mission</td>\n",
              "      <td>https://www.imdb.com/title/tt9071226/?ref_=adv...</td>\n",
              "      <td>2018.0</td>\n",
              "      <td>E10+</td>\n",
              "      <td>9.1</td>\n",
              "      <td>197.0</td>\n",
              "      <td>ASTRO BOT Rescue Mission is a brand new platfo...</td>\n",
              "      <td>False</td>\n",
              "      <td>False</td>\n",
              "      <td>False</td>\n",
              "      <td>False</td>\n",
              "      <td>False</td>\n",
              "      <td>False</td>\n",
              "      <td>False</td>\n",
              "      <td>True</td>\n",
              "      <td>False</td>\n",
              "    </tr>\n",
              "    <tr>\n",
              "      <th>19627</th>\n",
              "      <td>20XX</td>\n",
              "      <td>https://www.imdb.com/title/tt5862250/?ref_=adv...</td>\n",
              "      <td>2017.0</td>\n",
              "      <td>E10+</td>\n",
              "      <td>6.6</td>\n",
              "      <td>25.0</td>\n",
              "      <td>20XX is a roguelike action platformer that you...</td>\n",
              "      <td>True</td>\n",
              "      <td>True</td>\n",
              "      <td>False</td>\n",
              "      <td>False</td>\n",
              "      <td>False</td>\n",
              "      <td>False</td>\n",
              "      <td>False</td>\n",
              "      <td>True</td>\n",
              "      <td>False</td>\n",
              "    </tr>\n",
              "    <tr>\n",
              "      <th>19723</th>\n",
              "      <td>Creator Crate</td>\n",
              "      <td>https://www.imdb.com/title/tt11243630/?ref_=ad...</td>\n",
              "      <td>2021.0</td>\n",
              "      <td>NaN</td>\n",
              "      <td>0.0</td>\n",
              "      <td>NaN</td>\n",
              "      <td>CreatorCrate is a roguelike 2D platformer abou...</td>\n",
              "      <td>True</td>\n",
              "      <td>False</td>\n",
              "      <td>False</td>\n",
              "      <td>False</td>\n",
              "      <td>False</td>\n",
              "      <td>False</td>\n",
              "      <td>False</td>\n",
              "      <td>True</td>\n",
              "      <td>False</td>\n",
              "    </tr>\n",
              "  </tbody>\n",
              "</table>\n",
              "<p>131 rows × 16 columns</p>\n",
              "</div>"
            ],
            "text/plain": [
              "                               name  \\\n",
              "434       Sonic and the Fallen Star   \n",
              "838                   A Hat in Time   \n",
              "904              The Last Airbender   \n",
              "1085                Treasure Planet   \n",
              "1813                       Predator   \n",
              "...                             ...   \n",
              "18761  PPL: The Animated Adventures   \n",
              "19472                Demolition Man   \n",
              "19474     Astro Bot: Rescue Mission   \n",
              "19627                          20XX   \n",
              "19723                 Creator Crate   \n",
              "\n",
              "                                                     url    year certificate  \\\n",
              "434    https://www.imdb.com/title/tt15964560/?ref_=ad...  2021.0           E   \n",
              "838    https://www.imdb.com/title/tt3642956/?ref_=adv...  2017.0        E10+   \n",
              "904    https://www.imdb.com/title/tt1666339/?ref_=adv...  2010.0         NaN   \n",
              "1085   https://www.imdb.com/title/tt1602487/?ref_=adv...  2002.0           E   \n",
              "1813   https://www.imdb.com/title/tt0311669/?ref_=adv...  1989.0     Unrated   \n",
              "...                                                  ...     ...         ...   \n",
              "18761  https://www.imdb.com/title/tt15203432/?ref_=ad...  2021.0         NaN   \n",
              "19472  https://www.imdb.com/title/tt6748986/?ref_=adv...  1995.0         NaN   \n",
              "19474  https://www.imdb.com/title/tt9071226/?ref_=adv...  2018.0        E10+   \n",
              "19627  https://www.imdb.com/title/tt5862250/?ref_=adv...  2017.0        E10+   \n",
              "19723  https://www.imdb.com/title/tt11243630/?ref_=ad...  2021.0         NaN   \n",
              "\n",
              "       rating  votes                                        plotSummary  \\\n",
              "434       8.3   11.0  Sonic and The Fallen Star is a 2D speed-based ...   \n",
              "838       8.1  324.0  A Hat in Time is a cute-as-heck 3D platformer ...   \n",
              "904       4.5  285.0  Action adventure platformer based on the movie...   \n",
              "1085      7.2  168.0  Action-adventure 3-D platformer racing game fo...   \n",
              "1813      5.7   85.0  Action-platformer based on the movie of the sa...   \n",
              "...       ...    ...                                                ...   \n",
              "18761     0.0    NaN  A challenging 2D platformer with hard boss fig...   \n",
              "19472     7.5   16.0  Acclaim's 16-bit video game for the SNES, Gene...   \n",
              "19474     9.1  197.0  ASTRO BOT Rescue Mission is a brand new platfo...   \n",
              "19627     6.6   25.0  20XX is a roguelike action platformer that you...   \n",
              "19723     0.0    NaN  CreatorCrate is a roguelike 2D platformer abou...   \n",
              "\n",
              "       Action  Adventure  Comedy  Crime  Family  Fantasy  Mystery  SciFi  \\\n",
              "434      True       True   False  False    True    False    False  False   \n",
              "838      True       True   False  False    True    False    False  False   \n",
              "904      True       True   False  False   False     True    False  False   \n",
              "1085     True       True   False  False    True    False    False  False   \n",
              "1813     True       True   False  False   False    False    False   True   \n",
              "...       ...        ...     ...    ...     ...      ...      ...    ...   \n",
              "18761    True      False   False  False   False     True    False  False   \n",
              "19472   False      False   False  False   False    False    False   True   \n",
              "19474   False      False   False  False   False    False    False   True   \n",
              "19627    True       True   False  False   False    False    False   True   \n",
              "19723    True      False   False  False   False    False    False   True   \n",
              "\n",
              "       Thriller  \n",
              "434       False  \n",
              "838       False  \n",
              "904       False  \n",
              "1085      False  \n",
              "1813      False  \n",
              "...         ...  \n",
              "18761     False  \n",
              "19472     False  \n",
              "19474     False  \n",
              "19627     False  \n",
              "19723     False  \n",
              "\n",
              "[131 rows x 16 columns]"
            ]
          },
          "execution_count": 43,
          "metadata": {},
          "output_type": "execute_result"
        }
      ],
      "source": [
        "df[df.plotSummary.str.contains(pat = 'platformer')]"
      ]
    },
    {
      "cell_type": "markdown",
      "metadata": {},
      "source": [
        "### 12. What is the most common certificate of games with ratings greater than 8.0 and votes greater than 1000?"
      ]
    },
    {
      "cell_type": "code",
      "execution_count": 44,
      "metadata": {},
      "outputs": [
        {
          "data": {
            "text/plain": [
              "M    363\n",
              "Name: certificate, dtype: int64"
            ]
          },
          "execution_count": 44,
          "metadata": {},
          "output_type": "execute_result"
        }
      ],
      "source": [
        "rating_vote_games = df[(df.rating > 8.0) & (df.votes > 1000)]\n",
        "\n",
        "duplicate_certificates = rating_vote_games.certificate.value_counts()\n",
        "most_common_certificate = duplicate_certificates[duplicate_certificates == duplicate_certificates.max()]\n",
        "most_common_certificate"
      ]
    },
    {
      "cell_type": "markdown",
      "metadata": {},
      "source": [
        "### 13. For games with ratings greater than the 75th percentile for ratings and a number of votes greater than the 75th percentile for votes, what is the most common genre?"
      ]
    },
    {
      "cell_type": "code",
      "execution_count": 45,
      "metadata": {},
      "outputs": [
        {
          "data": {
            "text/plain": [
              "genre    Action\n",
              "count      1629\n",
              "Name: 0, dtype: object"
            ]
          },
          "execution_count": 45,
          "metadata": {},
          "output_type": "execute_result"
        }
      ],
      "source": [
        "rating_threshold = df.rating.quantile(.75)\n",
        "votes_threshold = df.votes.quantile(.75)\n",
        "\n",
        "genres = ['Action', 'Adventure', 'Comedy', 'Crime', 'Family', 'Fantasy', 'Mystery', 'SciFi', 'Thriller']\n",
        "\n",
        "good_games = df[ (df.rating > rating_threshold) & (df.votes > votes_threshold) ]\n",
        "\n",
        "genre_count = {\"genre\":[],\"count\":[]}\n",
        "\n",
        "for genre in genres:\n",
        "    num_genres = len( good_games[ good_games[genre]==True])\n",
        "    genre_count[\"genre\"].append(genre)\n",
        "    genre_count[\"count\"].append(num_genres)\n",
        "genre_count_df = pd.DataFrame.from_dict(genre_count)\n",
        "\n",
        "col2 = \"count\"\n",
        "max_count = genre_count_df.loc[genre_count_df[col2].idxmax()]\n",
        "max_count\n",
        "\n"
      ]
    },
    {
      "cell_type": "markdown",
      "metadata": {},
      "source": [
        "### 14. What are the average ratings by year?"
      ]
    },
    {
      "cell_type": "code",
      "execution_count": 46,
      "metadata": {},
      "outputs": [
        {
          "data": {
            "text/plain": [
              "year\n",
              "1952.0    7.000000\n",
              "1962.0    3.400000\n",
              "1964.0    0.000000\n",
              "1969.0    6.950000\n",
              "1970.0    2.150000\n",
              "            ...   \n",
              "2022.0    1.989336\n",
              "2023.0    0.000000\n",
              "2024.0    0.000000\n",
              "2025.0    0.000000\n",
              "2027.0    0.000000\n",
              "Name: rating, Length: 61, dtype: float64"
            ]
          },
          "execution_count": 46,
          "metadata": {},
          "output_type": "execute_result"
        }
      ],
      "source": [
        "df.groupby(\"year\").rating.mean()"
      ]
    },
    {
      "cell_type": "markdown",
      "metadata": {},
      "source": [
        "### 15. For each cerficate, what was the average rating and average number of votes?\n"
      ]
    },
    {
      "cell_type": "code",
      "execution_count": 47,
      "metadata": {},
      "outputs": [
        {
          "name": "stdout",
          "output_type": "stream",
          "text": [
            "T rating average: 6.3604284559418\n",
            "T vote average: 829.0208623087622\n",
            "E rating average: 5.238285144566301\n",
            "E vote average: 332.32906271072153\n",
            "M rating average: 6.863131868131868\n",
            "M vote average: 2498.627557160048\n",
            "E10+ rating average: 5.875552825552823\n",
            "E10+ vote average: 520.2657657657658\n",
            "Unrated rating average: 6.048132780082991\n",
            "Unrated vote average: 135.97333333333333\n",
            "K-A rating average: 5.765938864628821\n",
            "K-A vote average: 349.32460732984293\n",
            "Not Rated rating average: 4.9913043478260875\n",
            "Not Rated vote average: 110.75912408759125\n",
            "A0 rating average: nan\n",
            "A0 vote average: nan\n",
            "GA rating average: 4.773076923076923\n",
            "GA vote average: 165.10526315789474\n",
            "EC rating average: 1.72\n",
            "EC vote average: 18.857142857142858\n",
            "CE rating average: 2.123076923076923\n",
            "CE vote average: 12.6\n",
            "12 rating average: 6.533333333333333\n",
            "12 vote average: 31.375\n",
            "PG-13 rating average: 6.628571428571429\n",
            "PG-13 vote average: 119.0\n",
            "MA-13 rating average: 5.057142857142857\n",
            "MA-13 vote average: 83.2\n",
            "Approved rating average: 5.175000000000001\n",
            "Approved vote average: 52.333333333333336\n",
            "G rating average: 2.8\n",
            "G vote average: 11.5\n",
            "MA-17 rating average: 6.0\n",
            "MA-17 vote average: 165.66666666666666\n",
            "PG rating average: 5.933333333333334\n",
            "PG vote average: 106.33333333333333\n",
            "TV-MA rating average: 3.5\n",
            "TV-MA vote average: 8.0\n",
            "Passed rating average: 4.7\n",
            "Passed vote average: 19.0\n",
            "TV-14 rating average: 7.0\n",
            "TV-14 vote average: 127.0\n"
          ]
        }
      ],
      "source": [
        "certificates = ['T', 'E', 'M', 'E10+', 'Unrated', 'K-A', 'Not Rated', 'A0', 'GA', 'EC', 'CE', '12', 'PG-13', 'MA-13', 'Approved', 'G', 'MA-17', 'PG', 'TV-MA', 'Passed', 'TV-14']\n",
        "\n",
        "for certificate in certificates:\n",
        "    certificate_df = df[df.certificate == certificate]\n",
        "    print(certificate, \"rating average:\",certificate_df.rating.mean())\n",
        "    print(certificate, \"vote average:\",certificate_df.votes.mean())"
      ]
    }
  ],
  "metadata": {
    "colab": {
      "authorship_tag": "ABX9TyPG+ssWMxKywRQDkeiR9E1U",
      "include_colab_link": true,
      "mount_file_id": "1V16IS1TA0CmRy78Zy03QMP9hHtjmYEcW",
      "name": "EDA_10Steps.ipynb",
      "provenance": []
    },
    "kernelspec": {
      "display_name": "Python 3.9.12 ('base')",
      "language": "python",
      "name": "python3"
    },
    "language_info": {
      "codemirror_mode": {
        "name": "ipython",
        "version": 3
      },
      "file_extension": ".py",
      "mimetype": "text/x-python",
      "name": "python",
      "nbconvert_exporter": "python",
      "pygments_lexer": "ipython3",
      "version": "3.9.12"
    },
    "vscode": {
      "interpreter": {
        "hash": "b3b8246b3ad354a5f213208ce6023f082c1e8fc173d2c9adba35c304177e7570"
      }
    }
  },
  "nbformat": 4,
  "nbformat_minor": 0
}
